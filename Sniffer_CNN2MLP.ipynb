{
  "nbformat": 4,
  "nbformat_minor": 0,
  "metadata": {
    "colab": {
      "provenance": []
    },
    "kernelspec": {
      "name": "python3",
      "display_name": "Python 3"
    },
    "language_info": {
      "name": "python"
    }
  },
  "cells": [
    {
      "cell_type": "code",
      "execution_count": null,
      "metadata": {
        "id": "LM-T5G5mFcyi"
      },
      "outputs": [],
      "source": [
        "import random\n",
        "import pandas as pd\n",
        "import os\n",
        "\n",
        "def calculate_n(temp, humidity):\n",
        "    n = (3.2 - (0.0032 * (temp - 23)) - (0.022 * (humidity - 50)) + (0.0000015 * temp * temp) - (0.00003 * humidity * humidity) + (0.00001 * temp * humidity) )\n",
        "    return round(n, 2)\n",
        "\n",
        "# Generate random temperature and humidity values for 10000 iterations\n",
        "iterations = 10000\n",
        "temps = [round(random.uniform(0, 50), 2) for _ in range(iterations)]\n",
        "humidities = [round(random.uniform(0, 99), 2) for _ in range(iterations)]\n",
        "\n",
        "# Calculate n for each iteration\n",
        "ns = [calculate_n(temps[i], humidities[i]) for i in range(iterations)]\n",
        "\n",
        "# Create a Pandas dataframe to store the data\n",
        "data = {'Temperature': temps, 'Humidity': humidities, 'n': ns}\n",
        "df = pd.DataFrame(data)\n",
        "\n",
        "# Save the dataframe to a CSV file\n",
        "df.to_csv('n_values.csv', index=False)\n"
      ]
    },
    {
      "cell_type": "code",
      "execution_count": null,
      "metadata": {
        "id": "Vl5ld4f4G642"
      },
      "outputs": [],
      "source": [
        "import pandas as pd\n",
        "import numpy as np\n",
        "import seaborn as sns\n",
        "import matplotlib.pyplot as plt\n",
        "from sklearn.model_selection import train_test_split\n",
        "from sklearn.metrics import confusion_matrix\n",
        "from tensorflow.keras.models import Sequential\n",
        "from tensorflow.keras.layers import Dense\n",
        "\n",
        "# Load the dataset from the CSV file\n",
        "data = pd.read_csv('n_values.csv')\n",
        "\n",
        "\n"
      ]
    },
    {
      "cell_type": "code",
      "execution_count": null,
      "metadata": {
        "id": "I9kTwuf0Lc8m"
      },
      "outputs": [],
      "source": [
        "\n",
        "# Split the data into training and testing sets\n",
        "X_train, X_test, y_train, y_test = train_test_split(data[['Temperature', 'Humidity']], data[['n']], test_size=0.2, random_state=42)\n",
        "\n"
      ]
    },
    {
      "cell_type": "code",
      "execution_count": null,
      "metadata": {
        "id": "Xtsz1MQ6Lbpw",
        "colab": {
          "base_uri": "https://localhost:8080/"
        },
        "outputId": "36eb6fe1-3384-45d2-f89c-8b43ec23724c"
      },
      "outputs": [
        {
          "output_type": "stream",
          "name": "stdout",
          "text": [
            "Epoch 1/20\n",
            "250/250 [==============================] - 1s 2ms/step - loss: 62.3147\n",
            "Epoch 2/20\n",
            "250/250 [==============================] - 0s 2ms/step - loss: 2.3648\n",
            "Epoch 3/20\n",
            "250/250 [==============================] - 0s 2ms/step - loss: 2.2267\n",
            "Epoch 4/20\n",
            "250/250 [==============================] - 0s 1ms/step - loss: 2.0836\n",
            "Epoch 5/20\n",
            "250/250 [==============================] - 0s 1ms/step - loss: 1.9226\n",
            "Epoch 6/20\n",
            "250/250 [==============================] - 0s 1ms/step - loss: 1.7402\n",
            "Epoch 7/20\n",
            "250/250 [==============================] - 0s 2ms/step - loss: 1.5252\n",
            "Epoch 8/20\n",
            "250/250 [==============================] - 1s 2ms/step - loss: 1.1744\n",
            "Epoch 9/20\n",
            "250/250 [==============================] - 1s 2ms/step - loss: 0.7550\n",
            "Epoch 10/20\n",
            "250/250 [==============================] - 1s 2ms/step - loss: 0.4040\n",
            "Epoch 11/20\n",
            "250/250 [==============================] - 1s 2ms/step - loss: 0.1897\n",
            "Epoch 12/20\n",
            "250/250 [==============================] - 1s 2ms/step - loss: 0.0808\n",
            "Epoch 13/20\n",
            "250/250 [==============================] - 0s 1ms/step - loss: 0.0338\n",
            "Epoch 14/20\n",
            "250/250 [==============================] - 0s 1ms/step - loss: 0.0158\n",
            "Epoch 15/20\n",
            "250/250 [==============================] - 0s 1ms/step - loss: 0.0089\n",
            "Epoch 16/20\n",
            "250/250 [==============================] - 0s 2ms/step - loss: 0.0061\n",
            "Epoch 17/20\n",
            "250/250 [==============================] - 0s 1ms/step - loss: 0.0048\n",
            "Epoch 18/20\n",
            "250/250 [==============================] - 0s 1ms/step - loss: 0.0040\n",
            "Epoch 19/20\n",
            "250/250 [==============================] - 0s 1ms/step - loss: 0.0035\n",
            "Epoch 20/20\n",
            "250/250 [==============================] - 0s 1ms/step - loss: 0.0031\n"
          ]
        }
      ],
      "source": [
        "# Build a  Complex CNN model\n",
        "model = Sequential()\n",
        "model.add(Dense(2, activation='relu'))\n",
        "model.add(Dense(16, activation='relu'))\n",
        "model.add(Dense(1, activation='relu'))\n",
        "model.compile(loss='mean_squared_error', optimizer='adam')\n",
        "\n",
        "# Train the model\n",
        "history = model.fit(X_train, y_train, epochs=20, batch_size=32, verbose=1)\n",
        "\n"
      ]
    },
    {
      "cell_type": "code",
      "execution_count": null,
      "metadata": {
        "id": "16qEjo8GNMmv"
      },
      "outputs": [],
      "source": [
        "import seaborn as sns\n",
        "import matplotlib.pyplot as plt\n"
      ]
    },
    {
      "cell_type": "code",
      "execution_count": null,
      "metadata": {
        "colab": {
          "base_uri": "https://localhost:8080/",
          "height": 563
        },
        "id": "LPlFc8R6W0aS",
        "outputId": "6e70d26b-fbd2-4853-81ed-1ea3b6d31a6b"
      },
      "outputs": [
        {
          "output_type": "display_data",
          "data": {
            "text/plain": [
              "<Figure size 800x600 with 1 Axes>"
            ],
            "image/png": "[encoded data removed]"
          },
          "metadata": {}
        }
      ],
      "source": [
        "\n",
        "# Plot the loss graph\n",
        "sns.set_style(\"dark\")\n",
        "plt.figure(figsize=(8, 6))\n",
        "plt.plot(history.history['loss'])\n",
        "plt.title('Trained Model Loss')\n",
        "plt.xlabel('Epoch')\n",
        "plt.ylabel('Loss')\n",
        "plt.show()"
      ]
    },
    {
      "cell_type": "code",
      "execution_count": null,
      "metadata": {
        "colab": {
          "base_uri": "https://localhost:8080/"
        },
        "id": "srVsvC2ILZiA",
        "outputId": "e80d8522-49ae-4c6c-ecf8-a887ce9882db"
      },
      "outputs": [
        {
          "output_type": "stream",
          "name": "stdout",
          "text": [
            "63/63 [==============================] - 0s 1ms/step - loss: 0.0032\n",
            "Mean Squared Error on test set: 0.0031835762783885\n"
          ]
        }
      ],
      "source": [
        "# Evaluate the model on the test set\n",
        "loss = model.evaluate(X_test, y_test)\n",
        "print('Mean Squared Error on test set:', loss)"
      ]
    },
    {
      "cell_type": "code",
      "source": [
        "# Predict the close price using the test set\n",
        "y_pred = model.predict(X_test)"
      ],
      "metadata": {
        "colab": {
          "base_uri": "https://localhost:8080/"
        },
        "id": "Zv42aCJ5Igts",
        "outputId": "943f6cbf-2f3b-4c09-ac4e-b9f482923b08"
      },
      "execution_count": null,
      "outputs": [
        {
          "output_type": "stream",
          "name": "stdout",
          "text": [
            "63/63 [==============================] - 0s 2ms/step\n"
          ]
        }
      ]
    },
    {
      "cell_type": "code",
      "source": [
        "from sklearn.metrics import mean_absolute_error\n",
        "\n",
        "# Calculate the mean absolute error\n",
        "mae = mean_absolute_error(y_test, y_pred)\n",
        "\n",
        "# Print the mean absolute error\n",
        "print(\"Mean Absolute Error: \", mae)"
      ],
      "metadata": {
        "colab": {
          "base_uri": "https://localhost:8080/"
        },
        "id": "0Fsw96hKHqU0",
        "outputId": "c8dde275-580f-451e-84fe-28c238a5b498"
      },
      "execution_count": null,
      "outputs": [
        {
          "output_type": "stream",
          "name": "stdout",
          "text": [
            "Mean Absolute Error:  0.030587319321632386\n"
          ]
        }
      ]
    },
    {
      "cell_type": "code",
      "source": [
        "from sklearn.metrics import r2_score\n",
        "r2 = r2_score(y_test, y_pred)\n",
        "print(\"R-squared: \", r2)"
      ],
      "metadata": {
        "colab": {
          "base_uri": "https://localhost:8080/"
        },
        "id": "9lOqSJDUIwLg",
        "outputId": "d8a8590b-1a19-4f4c-a9d7-c6c2b7c9a95f"
      },
      "execution_count": null,
      "outputs": [
        {
          "output_type": "stream",
          "name": "stdout",
          "text": [
            "R-squared:  0.9936862752926126\n"
          ]
        }
      ]
    },
    {
      "cell_type": "code",
      "execution_count": null,
      "metadata": {
        "colab": {
          "base_uri": "https://localhost:8080/"
        },
        "id": "sLl7Tq9dLXYE",
        "outputId": "15cf06fe-aa4a-42c7-9277-c0f41d6ccc27"
      },
      "outputs": [
        {
          "output_type": "stream",
          "name": "stdout",
          "text": [
            "Enter the temperature (in Celsius): 23.5\n",
            "Enter the humidity (in percentage): 89.3\n",
            "1/1 [==============================] - 0s 59ms/step\n",
            "Predicted path loss exponent: 2.137402\n"
          ]
        }
      ],
      "source": [
        "# Predict the path loss component for a given temperature and humidity\n",
        "temp_str = input('Enter the temperature (in Celsius): ')\n",
        "humidity_str = input('Enter the humidity (in percentage): ')\n",
        "temperature = float(temp_str)\n",
        "humidity = float(humidity_str)\n",
        "\n",
        "path_loss = model.predict(np.array([[temperature, humidity]]))\n",
        "print('Predicted path loss exponent:', path_loss[0][0])\n"
      ]
    },
    {
      "cell_type": "code",
      "execution_count": null,
      "metadata": {
        "id": "kSPn20QhMpwZ"
      },
      "outputs": [],
      "source": [
        "model.save('my_model.h5')\n"
      ]
    },
    {
      "cell_type": "code",
      "execution_count": null,
      "metadata": {
        "id": "EtV9Ms2qM3Yn"
      },
      "outputs": [],
      "source": [
        "def weights_to_cpp(model, filename=\"weights_and_biases.txt\"):\n",
        "    model.summary()\n",
        "    weights = []\n",
        "    biases = []\n",
        "    for l in range(len(model.layers)):\n",
        "        W, B = model.layers[l].get_weights()\n",
        "        weights.append(W.flatten())\n",
        "        biases.append(B.flatten())\n",
        "\n",
        "    z = []\n",
        "    b = []\n",
        "    for i in np.array(weights):\n",
        "        for l in i:\n",
        "            z.append(l)\n",
        "    for i in np.array(biases):\n",
        "        for l in i:\n",
        "            b.append(l)\n",
        "    with open(filename, \"w\") as f:\n",
        "      f.write(\"weights: {\")\n",
        "      for i in range(len(z)):\n",
        "        if (i < len(z)-1):\n",
        "          f.write(str(z[i])+\", \")\n",
        "        else:\n",
        "          f.write(str(z[i]))\n",
        "      f.write(\"}\\n\\n\")\n",
        "\n",
        "      f.write(\"biases: {\")\n",
        "      for i in range(len(b)):\n",
        "        if (i < len(b)-1):\n",
        "          f.write(str(b[i])+\", \")\n",
        "        else:\n",
        "          f.write(str(b[i]))\n",
        "      f.write(\"}\\n\\n\")\n",
        "\n",
        "      arch = []\n",
        "\n",
        "      arch.append(model.layers[0].input_shape[1])\n",
        "      for i in range(1, len(model.layers)):\n",
        "          arch.append(model.layers[i].input_shape[1])\n",
        "      arch.append(model.layers[len(model.layers)-1].output_shape[1])\n",
        "      f.write(\"Architecture: {\")\n",
        "      for i in range(len(arch)):\n",
        "          if (i < len(arch)-1):\n",
        "              f.write(str(arch[i])+\", \")\n",
        "          else:\n",
        "              f.write(str(arch[i]))\n",
        "      f.write(\"}\")\n",
        "      print(\"Architecture (alpha):\", arch)\n",
        "      print(\"Layers: \", len(arch))\n",
        "    print(\"Weights: \", z)\n",
        "    print(\"Biases: \", b)\n"
      ]
    },
    {
      "cell_type": "code",
      "execution_count": null,
      "metadata": {
        "colab": {
          "base_uri": "https://localhost:8080/"
        },
        "id": "KcLeNIROM7YQ",
        "outputId": "29dae60b-ac00-491e-a632-5612e780cbe8"
      },
      "outputs": [
        {
          "output_type": "stream",
          "name": "stdout",
          "text": [
            "Model: \"sequential_5\"\n",
            "_________________________________________________________________\n",
            " Layer (type)                Output Shape              Param #   \n",
            "=================================================================\n",
            " dense_17 (Dense)            (None, 2)                 6         \n",
            "                                                                 \n",
            " dense_18 (Dense)            (None, 16)                48        \n",
            "                                                                 \n",
            " dense_19 (Dense)            (None, 1)                 17        \n",
            "                                                                 \n",
            "=================================================================\n",
            "Total params: 71\n",
            "Trainable params: 71\n",
            "Non-trainable params: 0\n",
            "_________________________________________________________________\n",
            "Architecture (alpha): [2, 2, 16, 1]\n",
            "Layers:  4\n",
            "Weights:  [0.62121207, 0.85981596, 0.17756486, 0.006290088, 0.07640654, 0.47845405, 0.56147414, -0.48516235, 0.4144334, 0.40409982, 0.07661235, -0.20421562, -0.08958274, 0.20663476, 0.15113525, 0.13982241, 0.1883488, -0.24636093, -0.44742104, 0.13170274, 0.17596598, -0.15364385, -0.22508775, 0.32495278, 0.5519215, -0.09710853, 0.34388137, -0.49451202, -0.11891425, 0.08269569, -0.113735974, 0.3273017, 0.17842196, -0.45824206, 0.172288, -0.09990962, 0.5025915, -0.68201613, -0.2893368, -0.4788573, 0.2689783, 0.015564336, -0.45274547, 0.33115315, 0.20981294, 0.6153218, 0.27530113, -0.61967987, 0.4379856, -0.57681704, -0.46943927, 0.44595885]\n",
            "Biases:  [0.5361865, 1.1224558, 0.8195855, -0.7299666, -0.7761065, -0.13306303, 0.7570811, 0.6147889, -0.91538113, 0.0, 0.0, 0.765081, 0.8205349, -0.7631313, 0.7766049, 0.0, 0.0, 0.7999244, 0.74998564]\n"
          ]
        },
        {
          "output_type": "stream",
          "name": "stderr",
          "text": [
            "<ipython-input-34-a5fe7af07bcc>:12: VisibleDeprecationWarning: Creating an ndarray from ragged nested sequences (which is a list-or-tuple of lists-or-tuples-or ndarrays with different lengths or shapes) is deprecated. If you meant to do this, you must specify 'dtype=object' when creating the ndarray.\n",
            "  for i in np.array(weights):\n",
            "<ipython-input-34-a5fe7af07bcc>:15: VisibleDeprecationWarning: Creating an ndarray from ragged nested sequences (which is a list-or-tuple of lists-or-tuples-or ndarrays with different lengths or shapes) is deprecated. If you meant to do this, you must specify 'dtype=object' when creating the ndarray.\n",
            "  for i in np.array(biases):\n"
          ]
        }
      ],
      "source": [
        "weights_to_cpp(model, filename=\"weights_and_biases.txt\")"
      ]
    }
  ]
}