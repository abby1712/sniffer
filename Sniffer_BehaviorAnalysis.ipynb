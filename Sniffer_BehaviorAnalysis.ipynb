{
  "nbformat": 4,
  "nbformat_minor": 0,
  "metadata": {
    "colab": {
      "provenance": []
    },
    "kernelspec": {
      "name": "python3",
      "display_name": "Python 3"
    },
    "language_info": {
      "name": "python"
    }
  },
  "cells": [
    {
      "cell_type": "markdown",
      "source": [
        "LOG FILES"
      ],
      "metadata": {
        "id": "A6eMYSQ43tGE"
      }
    },
    {
      "cell_type": "code",
      "source": [
        "import os\n",
        "import csv\n",
        "\n",
        "# Create a folder to store the device-specific CSV files\n",
        "folder_name = \"device_data_files_2\"\n",
        "os.makedirs(folder_name, exist_ok=True)\n",
        "\n",
        "# Open the original CSV file\n",
        "with open('/content/behavior_data.csv', 'r') as file:\n",
        "    csv_reader = csv.reader(file)\n",
        "    header = next(csv_reader)  # Read the header\n",
        "\n",
        "    # Create a dictionary to store device data\n",
        "    device_data = {}\n",
        "\n",
        "    # Iterate over each row in the CSV file\n",
        "    for row in csv_reader:\n",
        "        address = row[0]\n",
        "        duration = row[1]\n",
        "        distance = row[2]\n",
        "        inside_range = row[3]\n",
        "\n",
        "        # Create a new CSV file for the device if it doesn't exist\n",
        "        if address not in device_data:\n",
        "            device_data[address] = [header]  # Include the header as the first entry in the device's data\n",
        "\n",
        "        # Append the data to the device's CSV file\n",
        "        device_data[address].append([address, duration, distance, inside_range])  # Include the address in each entry\n",
        "\n",
        "# Write the device data to their respective CSV files in the folder\n",
        "for address, data in device_data.items():\n",
        "    filename = f\"{address}_data.csv\"\n",
        "    filepath = os.path.join(folder_name, filename)\n",
        "    with open(filepath, 'w', newline='') as file:\n",
        "        csv_writer = csv.writer(file)\n",
        "\n",
        "        # Write the data\n",
        "        csv_writer.writerows(data)\n",
        "\n",
        "    print(f\"Created {filename} with {len(data)-1} entries in the folder {folder_name}.\")\n"
      ],
      "metadata": {
        "colab": {
          "base_uri": "https://localhost:8080/"
        },
        "id": "u-Q29Rr02Lxr",
        "outputId": "8f1f14fa-3187-4f66-8b91-f3a176a4e6d7"
      },
      "execution_count": null,
      "outputs": [
        {
          "output_type": "stream",
          "name": "stdout",
          "text": [
            "Created 69:da:2d:f2:bf:34_data.csv with 13 entries in the folder device_data_files_2.\n",
            "Created 26:51:90:dd:f1:06_data.csv with 16 entries in the folder device_data_files_2.\n",
            "Created 2c:1a:9c:b1:d4:ef_data.csv with 26 entries in the folder device_data_files_2.\n",
            "Created 20:32:c4:9c:ab:60_data.csv with 3 entries in the folder device_data_files_2.\n",
            "Created 19:8e:4b:a6:23:02_data.csv with 34 entries in the folder device_data_files_2.\n",
            "Created 10:98:42:1d:2d:13_data.csv with 23 entries in the folder device_data_files_2.\n",
            "Created 11:68:e6:e6:8c:2c_data.csv with 35 entries in the folder device_data_files_2.\n",
            "Created 00:31:d2:77:42:24_data.csv with 13 entries in the folder device_data_files_2.\n",
            "Created 29:b2:be:dc:25:22_data.csv with 8 entries in the folder device_data_files_2.\n",
            "Created 37:92:bc:25:42:91_data.csv with 37 entries in the folder device_data_files_2.\n",
            "Created 55:98:bc:21:42:49_data.csv with 12 entries in the folder device_data_files_2.\n",
            "Created 0f:18:0f:9a:81:9c_data.csv with 7 entries in the folder device_data_files_2.\n",
            "Created 08:c2:33:97:21:62_data.csv with 27 entries in the folder device_data_files_2.\n",
            "Created 63:0e:5c:5f:4b:78_data.csv with 36 entries in the folder device_data_files_2.\n",
            "Created 46:b2:87:c6:f0:62_data.csv with 12 entries in the folder device_data_files_2.\n",
            "Created 1f:07:bd:2b:a0:65_data.csv with 40 entries in the folder device_data_files_2.\n",
            "Created 03:e8:57:a6:db:22_data.csv with 34 entries in the folder device_data_files_2.\n",
            "Created 1f:c3:4a:7e:fb:1c_data.csv with 18 entries in the folder device_data_files_2.\n",
            "Created 3f:12:70:fd:fe:a3_data.csv with 2 entries in the folder device_data_files_2.\n",
            "Created 23:d0:60:6b:d2:91_data.csv with 28 entries in the folder device_data_files_2.\n",
            "Created 5f:59:bf:7c:2d:e9_data.csv with 2 entries in the folder device_data_files_2.\n",
            "Created 3e:da:13:d8:ec:31_data.csv with 23 entries in the folder device_data_files_2.\n",
            "Created 2e:fb:de:3c:40:19_data.csv with 21 entries in the folder device_data_files_2.\n",
            "Created 2c:98:0d:ff:84:ed_data.csv with 13 entries in the folder device_data_files_2.\n",
            "Created 28:86:79:b3:e8:4e_data.csv with 31 entries in the folder device_data_files_2.\n",
            "Created 3d:fa:36:88:26:f1_data.csv with 22 entries in the folder device_data_files_2.\n",
            "Created 32:34:51:36:d0:5c_data.csv with 25 entries in the folder device_data_files_2.\n",
            "Created 6b:af:ab:69:ba:7f_data.csv with 26 entries in the folder device_data_files_2.\n",
            "Created 69:f6:5d:cf:4f:32_data.csv with 12 entries in the folder device_data_files_2.\n",
            "Created 1a:ff:93:ab:26:2e_data.csv with 47 entries in the folder device_data_files_2.\n",
            "Created 13:fe:46:d7:e6:fa_data.csv with 13 entries in the folder device_data_files_2.\n",
            "Created 7e:a9:98:2f:3a:a1_data.csv with 21 entries in the folder device_data_files_2.\n",
            "Created 40:db:7c:ec:fc:05_data.csv with 6 entries in the folder device_data_files_2.\n",
            "Created 5f:01:c0:1b:4d:e4_data.csv with 4 entries in the folder device_data_files_2.\n",
            "Created 6c:d8:4b:65:a3:c6_data.csv with 5 entries in the folder device_data_files_2.\n",
            "Created 01:8a:0f:51:71:61_data.csv with 39 entries in the folder device_data_files_2.\n",
            "Created 37:76:b6:4c:8d:74_data.csv with 8 entries in the folder device_data_files_2.\n",
            "Created 13:23:1a:e6:f8:df_data.csv with 16 entries in the folder device_data_files_2.\n",
            "Created 17:e4:44:5e:4c:70_data.csv with 20 entries in the folder device_data_files_2.\n",
            "Created d1:4d:c9:21:b1:38_data.csv with 2 entries in the folder device_data_files_2.\n",
            "Created 3a:32:ef:da:25:94_data.csv with 22 entries in the folder device_data_files_2.\n",
            "Created 5a:41:47:cf:51:4d_data.csv with 14 entries in the folder device_data_files_2.\n",
            "Created 31:f1:74:8a:9b:46_data.csv with 32 entries in the folder device_data_files_2.\n",
            "Created 1d:3c:2c:97:af:b9_data.csv with 5 entries in the folder device_data_files_2.\n",
            "Created 7f:97:93:3d:fd:ca_data.csv with 10 entries in the folder device_data_files_2.\n",
            "Created 7d:80:ce:1d:67:47_data.csv with 2 entries in the folder device_data_files_2.\n",
            "Created 4d:34:f0:37:bf:5a_data.csv with 4 entries in the folder device_data_files_2.\n",
            "Created 36:8f:b9:1f:0f:cd_data.csv with 17 entries in the folder device_data_files_2.\n",
            "Created f6:c9:25:69:73:54_data.csv with 2 entries in the folder device_data_files_2.\n",
            "Created 5e:21:78:b9:6f:a9_data.csv with 3 entries in the folder device_data_files_2.\n",
            "Created 4a:7a:50:40:27:c2_data.csv with 9 entries in the folder device_data_files_2.\n",
            "Created ec:da:d1:ea:88:bf_data.csv with 3 entries in the folder device_data_files_2.\n",
            "Created f3:32:57:d0:de:68_data.csv with 2 entries in the folder device_data_files_2.\n",
            "Created 27:ac:10:3d:b8:a7_data.csv with 16 entries in the folder device_data_files_2.\n",
            "Created 41:99:b9:cf:ff:fd_data.csv with 2 entries in the folder device_data_files_2.\n",
            "Created d8:0b:0a:f7:c9:52_data.csv with 1 entries in the folder device_data_files_2.\n",
            "Created 56:1b:60:95:86:41_data.csv with 3 entries in the folder device_data_files_2.\n",
            "Created 57:d8:2c:72:77:90_data.csv with 2 entries in the folder device_data_files_2.\n",
            "Created d2:e1:ba:fe:bb:86_data.csv with 2 entries in the folder device_data_files_2.\n",
            "Created f6:59:03:06:19:9e_data.csv with 2 entries in the folder device_data_files_2.\n",
            "Created 4c:0c:a9:e8:e4:6f_data.csv with 1 entries in the folder device_data_files_2.\n",
            "Created 15:c2:86:0f:60:45_data.csv with 5 entries in the folder device_data_files_2.\n",
            "Created e0:36:b9:7d:62:47_data.csv with 1 entries in the folder device_data_files_2.\n",
            "Created 3a:0b:69:68:ac:c8_data.csv with 1 entries in the folder device_data_files_2.\n",
            "Created 00:76:ea:25:20:95_data.csv with 1 entries in the folder device_data_files_2.\n"
          ]
        }
      ]
    },
    {
      "cell_type": "code",
      "source": [
        "\n",
        "import os\n",
        "import csv\n",
        "import numpy as np\n",
        "from sklearn.ensemble import IsolationForest\n",
        "\n",
        "# Initialize a list to store the features and addresses\n",
        "features = []\n",
        "addresses = []\n",
        "\n",
        "# Read the device-specific CSV files\n",
        "folder_name = \"/content/device_data_files_2\"\n",
        "for filename in os.listdir(folder_name):\n",
        "    file_path = os.path.join(folder_name, filename)\n",
        "    with open(file_path, 'r') as file:\n",
        "        csv_reader = csv.reader(file)\n",
        "        header = next(csv_reader)  # Skip the header\n",
        "\n",
        "        # Read the data rows and extract the features\n",
        "        for row in csv_reader:\n",
        "            duration = float(row[1])\n",
        "            distance = float(row[2])\n",
        "            inside_range = float(row[3])\n",
        "            features.append([duration, distance, inside_range])\n",
        "            addresses.append(row[0])\n",
        "\n",
        "# Convert the features to a NumPy array\n",
        "X = np.array(features)\n",
        "\n",
        "# Train the Isolation Forest model\n",
        "isolation_forest = IsolationForest()\n",
        "isolation_forest.fit(X)\n",
        "\n",
        "# Detect anomalies in the feature matrix\n",
        "anomaly_scores = isolation_forest.decision_function(X)\n",
        "\n",
        "# Set a threshold for anomaly scores to identify suspicious files\n",
        "anomaly_threshold = -0.2  # Adjust this threshold as needed\n",
        "\n",
        "# Identify suspicious device addresses\n",
        "suspicious_devices = set()\n",
        "for address, score in zip(addresses, anomaly_scores):\n",
        "    if score < anomaly_threshold:\n",
        "        suspicious_devices.add(address)\n",
        "\n",
        "# Output the suspicious devices\n",
        "print(\"Suspicious Devices:\")\n",
        "for device in suspicious_devices:\n",
        "    print(device)\n"
      ],
      "metadata": {
        "colab": {
          "base_uri": "https://localhost:8080/"
        },
        "id": "gTWRmyxf4sGX",
        "outputId": "5e75d367-ef8f-445b-c9d2-022c018b3f11"
      },
      "execution_count": null,
      "outputs": [
        {
          "output_type": "stream",
          "name": "stdout",
          "text": [
            "Suspicious Devices:\n",
            "1f:c3:4a:7e:fb:1c\n",
            "36:8f:b9:1f:0f:cd\n"
          ]
        }
      ]
    }
  ]
}